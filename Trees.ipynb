{
 "cells": [
  {
   "cell_type": "code",
   "execution_count": 1,
   "metadata": {},
   "outputs": [],
   "source": [
    "import random\n",
    "\n",
    "rand_list = []\n",
    "for i in range(15):\n",
    "    rand_list.append(random.randint(1, 100))"
   ]
  },
  {
   "cell_type": "code",
   "execution_count": 2,
   "metadata": {},
   "outputs": [
    {
     "data": {
      "text/plain": [
       "[61, 91, 60, 71, 92, 85, 15, 48, 96, 100, 10, 18, 79, 37, 16]"
      ]
     },
     "execution_count": 2,
     "metadata": {},
     "output_type": "execute_result"
    }
   ],
   "source": [
    "rand_list"
   ]
  },
  {
   "cell_type": "code",
   "execution_count": 3,
   "metadata": {},
   "outputs": [],
   "source": [
    "class Node:\n",
    "    def __init__(self, val):\n",
    "        self.left = None\n",
    "        self.right = None\n",
    "        self.val = val\n",
    "\n",
    "class binary_search_tree:\n",
    "    def __init__(self):\n",
    "        self.root = None\n",
    "        \n",
    "    def insert(self, val):\n",
    "        if self.root == None:\n",
    "            self.root = Node(val)\n",
    "        else:\n",
    "            self._insert(val, self.root)\n",
    "    \n",
    "    def _insert(self, val, cur_node):\n",
    "        if val < cur_node.val:\n",
    "            if cur_node.left == None:\n",
    "                cur_node.left = Node(val)\n",
    "            else:\n",
    "                self._insert(val, cur_node.left)\n",
    "        elif val > cur_node.val:\n",
    "            if cur_node.right == None:\n",
    "                cur_node.right = Node(val)\n",
    "            else:\n",
    "                self._insert(val, cur_node.right)\n",
    "        else:\n",
    "            print('Value already in tree.')\n",
    "                   \n",
    "    def print_tree(self):\n",
    "        if self.root != None:\n",
    "            self._print_tree(self.root)\n",
    "    \n",
    "    def _print_tree(self, cur_node):\n",
    "        if cur_node != None:\n",
    "            self._print_tree(cur_node.left)\n",
    "            print(str(cur_node.val))\n",
    "            self._print_tree(cur_node.right)\n",
    "            \n",
    "    def height(self):\n",
    "        if self.root != None:\n",
    "            return self._height(self.root, 0)\n",
    "        else:\n",
    "            return 0\n",
    "    \n",
    "    def _height(self, cur_node, cur_height):\n",
    "        if cur_node == None:\n",
    "            return cur_height\n",
    "        left_height = self._height(cur_node.left, cur_height + 1)\n",
    "        right_height = self._height(cur_node.right, cur_height + 1)\n",
    "        return max(left_height, right_height)\n",
    "            "
   ]
  },
  {
   "cell_type": "code",
   "execution_count": 4,
   "metadata": {},
   "outputs": [],
   "source": [
    "def fill_tree(tree, num_elems=15, max_int=1000):\n",
    "    for i in range(num_elems):\n",
    "        current_val = random.randint(1, max_int)\n",
    "        tree.insert(current_val)\n",
    "    return tree"
   ]
  },
  {
   "cell_type": "code",
   "execution_count": 5,
   "metadata": {
    "scrolled": true
   },
   "outputs": [],
   "source": [
    "tree = binary_search_tree()\n",
    "tree = fill_tree(tree)"
   ]
  },
  {
   "cell_type": "code",
   "execution_count": 6,
   "metadata": {},
   "outputs": [
    {
     "name": "stdout",
     "output_type": "stream",
     "text": [
      "61\n",
      "150\n",
      "188\n",
      "202\n",
      "382\n",
      "457\n",
      "527\n",
      "547\n",
      "605\n",
      "610\n",
      "710\n",
      "744\n",
      "772\n",
      "844\n",
      "873\n"
     ]
    }
   ],
   "source": [
    "tree.print_tree()"
   ]
  },
  {
   "cell_type": "code",
   "execution_count": 7,
   "metadata": {
    "scrolled": true
   },
   "outputs": [
    {
     "data": {
      "text/plain": [
       "7"
      ]
     },
     "execution_count": 7,
     "metadata": {},
     "output_type": "execute_result"
    }
   ],
   "source": [
    "tree.height()"
   ]
  },
  {
   "cell_type": "code",
   "execution_count": null,
   "metadata": {},
   "outputs": [],
   "source": []
  }
 ],
 "metadata": {
  "kernelspec": {
   "display_name": "Python 3",
   "language": "python",
   "name": "python3"
  },
  "language_info": {
   "codemirror_mode": {
    "name": "ipython",
    "version": 3
   },
   "file_extension": ".py",
   "mimetype": "text/x-python",
   "name": "python",
   "nbconvert_exporter": "python",
   "pygments_lexer": "ipython3",
   "version": "3.6.5"
  }
 },
 "nbformat": 4,
 "nbformat_minor": 2
}
